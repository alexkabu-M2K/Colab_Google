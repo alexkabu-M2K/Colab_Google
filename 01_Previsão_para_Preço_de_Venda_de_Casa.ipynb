{
  "nbformat": 4,
  "nbformat_minor": 0,
  "metadata": {
    "colab": {
      "provenance": [],
      "authorship_tag": "ABX9TyMVuxHVeg0xE6gWxZCuhqXv",
      "include_colab_link": true
    },
    "kernelspec": {
      "name": "python3",
      "display_name": "Python 3"
    },
    "language_info": {
      "name": "python"
    }
  },
  "cells": [
    {
      "cell_type": "markdown",
      "metadata": {
        "id": "view-in-github",
        "colab_type": "text"
      },
      "source": [
        "<a href=\"https://colab.research.google.com/github/alexkabu-M2K/Colab_Google/blob/main/Previs%C3%A3o_para_Pre%C3%A7o_de_Venda_de_Casa.ipynb\" target=\"_parent\"><img src=\"https://colab.research.google.com/assets/colab-badge.svg\" alt=\"Open In Colab\"/></a>"
      ]
    },
    {
      "cell_type": "code",
      "execution_count": null,
      "metadata": {
        "colab": {
          "base_uri": "https://localhost:8080/"
        },
        "id": "dEUQ-ozqDXS_",
        "outputId": "3fb0543f-9668-4c90-afaf-64082f0e0097"
      },
      "outputs": [
        {
          "output_type": "stream",
          "name": "stdout",
          "text": [
            "Valor previsto para a casa: 262.3362445414848 mil reais\n"
          ]
        }
      ],
      "source": [
        "import pandas as pd\n",
        "from sklearn.model_selection import train_test_split\n",
        "from sklearn.linear_model import LinearRegression\n",
        "\n",
        "# Dados de exemplo\n",
        "dados = {\n",
        "      'Área(m²)': [100, 150, 90, 120, 110],\n",
        "      'Quartos': [3, 4, 2, 3, 2],\n",
        "      'Distancia até o Centro (km)': [5, 3, 7, 2, 6],\n",
        "      'Idade (anos)': [10, 5, 12, 8, 6],\n",
        "      'Valor de Venda (mil reais)':[500, 700, 400, 550, 450],\n",
        "}\n",
        "\n",
        "# Convertendo em DataFrame\n",
        "df = pd.DataFrame(dados)\n",
        "\n",
        "# Dividindo os dados em variáveis independentes (X) e depedendentes (y)\n",
        "X = df[['Área(m²)', 'Quartos', 'Distancia até o Centro (km)', 'Idade (anos)']]\n",
        "y = df['Valor de Venda (mil reais)']\n",
        "X_train, X_test, y_train, y_test = train_test_split(X, y, test_size=0.2, random_state=42)\n",
        "\n",
        "# Criando o modelo de regressão linear\n",
        "modelo = LinearRegression()\n",
        "\n",
        "# Treinando o modelo com os dados de treinamento\n",
        "modelo.fit(X_train, y_train)\n",
        "\n",
        "# Previsão de vaalor de venda para uma casa específica\n",
        "casa_para_prever = pd.DataFrame({\n",
        "    'Área(m²)': [150],\n",
        "    'Quartos': [3],\n",
        "    'Distancia até o Centro (km)': [5],\n",
        "    'Idade (anos)': [12]\n",
        "})\n",
        "\n",
        "valor_previsto = modelo.predict(casa_para_prever)\n",
        "\n",
        "print(f\"Valor previsto para a casa: {valor_previsto[0]:} mil reais\")"
      ]
    }
  ]
}
